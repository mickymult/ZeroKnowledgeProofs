{
  "nbformat": 4,
  "nbformat_minor": 0,
  "metadata": {
    "colab": {
      "provenance": [],
      "authorship_tag": "ABX9TyOhYYKV6emRkBbPdO8YJDVH",
      "include_colab_link": true
    },
    "kernelspec": {
      "name": "python3",
      "display_name": "Python 3"
    },
    "language_info": {
      "name": "python"
    },
    "widgets": {
      "application/vnd.jupyter.widget-state+json": {
        "45cd8b9d333a4ac98548054155364c69": {
          "model_module": "@jupyter-widgets/controls",
          "model_name": "IntSliderModel",
          "model_module_version": "1.5.0",
          "state": {
            "_dom_classes": [],
            "_model_module": "@jupyter-widgets/controls",
            "_model_module_version": "1.5.0",
            "_model_name": "IntSliderModel",
            "_view_count": null,
            "_view_module": "@jupyter-widgets/controls",
            "_view_module_version": "1.5.0",
            "_view_name": "IntSliderView",
            "continuous_update": false,
            "description": "Credit Score:",
            "description_tooltip": null,
            "disabled": false,
            "layout": "IPY_MODEL_a9b228b2a2e54d9da048ac82a96eada7",
            "max": 850,
            "min": 300,
            "orientation": "horizontal",
            "readout": true,
            "readout_format": "d",
            "step": 1,
            "style": "IPY_MODEL_37a88c892a7f4157891af5ad92328b2a",
            "value": 751
          }
        },
        "a9b228b2a2e54d9da048ac82a96eada7": {
          "model_module": "@jupyter-widgets/base",
          "model_name": "LayoutModel",
          "model_module_version": "1.2.0",
          "state": {
            "_model_module": "@jupyter-widgets/base",
            "_model_module_version": "1.2.0",
            "_model_name": "LayoutModel",
            "_view_count": null,
            "_view_module": "@jupyter-widgets/base",
            "_view_module_version": "1.2.0",
            "_view_name": "LayoutView",
            "align_content": null,
            "align_items": null,
            "align_self": null,
            "border": null,
            "bottom": null,
            "display": null,
            "flex": null,
            "flex_flow": null,
            "grid_area": null,
            "grid_auto_columns": null,
            "grid_auto_flow": null,
            "grid_auto_rows": null,
            "grid_column": null,
            "grid_gap": null,
            "grid_row": null,
            "grid_template_areas": null,
            "grid_template_columns": null,
            "grid_template_rows": null,
            "height": null,
            "justify_content": null,
            "justify_items": null,
            "left": null,
            "margin": null,
            "max_height": null,
            "max_width": null,
            "min_height": null,
            "min_width": null,
            "object_fit": null,
            "object_position": null,
            "order": null,
            "overflow": null,
            "overflow_x": null,
            "overflow_y": null,
            "padding": null,
            "right": null,
            "top": null,
            "visibility": null,
            "width": null
          }
        },
        "37a88c892a7f4157891af5ad92328b2a": {
          "model_module": "@jupyter-widgets/controls",
          "model_name": "SliderStyleModel",
          "model_module_version": "1.5.0",
          "state": {
            "_model_module": "@jupyter-widgets/controls",
            "_model_module_version": "1.5.0",
            "_model_name": "SliderStyleModel",
            "_view_count": null,
            "_view_module": "@jupyter-widgets/base",
            "_view_module_version": "1.2.0",
            "_view_name": "StyleView",
            "description_width": "",
            "handle_color": null
          }
        },
        "9d56432c24314b93a553b2bc3dd082ed": {
          "model_module": "@jupyter-widgets/controls",
          "model_name": "ButtonModel",
          "model_module_version": "1.5.0",
          "state": {
            "_dom_classes": [],
            "_model_module": "@jupyter-widgets/controls",
            "_model_module_version": "1.5.0",
            "_model_name": "ButtonModel",
            "_view_count": null,
            "_view_module": "@jupyter-widgets/controls",
            "_view_module_version": "1.5.0",
            "_view_name": "ButtonView",
            "button_style": "",
            "description": "Submit",
            "disabled": false,
            "icon": "",
            "layout": "IPY_MODEL_31f3e87a90364650b04f56f307abac75",
            "style": "IPY_MODEL_308e07c1de60432a857b45d47e2d1065",
            "tooltip": ""
          }
        },
        "31f3e87a90364650b04f56f307abac75": {
          "model_module": "@jupyter-widgets/base",
          "model_name": "LayoutModel",
          "model_module_version": "1.2.0",
          "state": {
            "_model_module": "@jupyter-widgets/base",
            "_model_module_version": "1.2.0",
            "_model_name": "LayoutModel",
            "_view_count": null,
            "_view_module": "@jupyter-widgets/base",
            "_view_module_version": "1.2.0",
            "_view_name": "LayoutView",
            "align_content": null,
            "align_items": null,
            "align_self": null,
            "border": null,
            "bottom": null,
            "display": null,
            "flex": null,
            "flex_flow": null,
            "grid_area": null,
            "grid_auto_columns": null,
            "grid_auto_flow": null,
            "grid_auto_rows": null,
            "grid_column": null,
            "grid_gap": null,
            "grid_row": null,
            "grid_template_areas": null,
            "grid_template_columns": null,
            "grid_template_rows": null,
            "height": null,
            "justify_content": null,
            "justify_items": null,
            "left": null,
            "margin": null,
            "max_height": null,
            "max_width": null,
            "min_height": null,
            "min_width": null,
            "object_fit": null,
            "object_position": null,
            "order": null,
            "overflow": null,
            "overflow_x": null,
            "overflow_y": null,
            "padding": null,
            "right": null,
            "top": null,
            "visibility": null,
            "width": null
          }
        },
        "308e07c1de60432a857b45d47e2d1065": {
          "model_module": "@jupyter-widgets/controls",
          "model_name": "ButtonStyleModel",
          "model_module_version": "1.5.0",
          "state": {
            "_model_module": "@jupyter-widgets/controls",
            "_model_module_version": "1.5.0",
            "_model_name": "ButtonStyleModel",
            "_view_count": null,
            "_view_module": "@jupyter-widgets/base",
            "_view_module_version": "1.2.0",
            "_view_name": "StyleView",
            "button_color": null,
            "font_weight": ""
          }
        },
        "fe13bb8074784d4c90b49c73ad2509da": {
          "model_module": "@jupyter-widgets/output",
          "model_name": "OutputModel",
          "model_module_version": "1.0.0",
          "state": {
            "_dom_classes": [],
            "_model_module": "@jupyter-widgets/output",
            "_model_module_version": "1.0.0",
            "_model_name": "OutputModel",
            "_view_count": null,
            "_view_module": "@jupyter-widgets/output",
            "_view_module_version": "1.0.0",
            "_view_name": "OutputView",
            "layout": "IPY_MODEL_92a652371a0b4617b7eb3033dd06e6da",
            "msg_id": "",
            "outputs": [
              {
                "output_type": "stream",
                "name": "stdout",
                "text": [
                  "Proof generated for category: excellent\n",
                  "Public Key: 76d9309a3cabf03336d68fdf4ff8229a68c9eb4cd267911c578c81cce9c372a0b1ff3a14b0547211851db90358d2e469446590c2687d3aa105c046c5b89e16803c2323be570d4fabe86b07821cd7de1149d7b2ea4552610d0460149b86b02ce0\n",
                  "Proof: cd3e142f7b964a3354c5fcd817f1fa3e222b4709c19e7e3e0318c49fa50f2628da99efcc93dd596b4fd8e910f1fd1a5b039677d32b157b01d44ad0b70a81dc580461250a96a2dc48b371929152ec4fecfeed3a8dee2896ef079cc889d71ecfee\n"
                ]
              }
            ]
          }
        },
        "92a652371a0b4617b7eb3033dd06e6da": {
          "model_module": "@jupyter-widgets/base",
          "model_name": "LayoutModel",
          "model_module_version": "1.2.0",
          "state": {
            "_model_module": "@jupyter-widgets/base",
            "_model_module_version": "1.2.0",
            "_model_name": "LayoutModel",
            "_view_count": null,
            "_view_module": "@jupyter-widgets/base",
            "_view_module_version": "1.2.0",
            "_view_name": "LayoutView",
            "align_content": null,
            "align_items": null,
            "align_self": null,
            "border": null,
            "bottom": null,
            "display": null,
            "flex": null,
            "flex_flow": null,
            "grid_area": null,
            "grid_auto_columns": null,
            "grid_auto_flow": null,
            "grid_auto_rows": null,
            "grid_column": null,
            "grid_gap": null,
            "grid_row": null,
            "grid_template_areas": null,
            "grid_template_columns": null,
            "grid_template_rows": null,
            "height": null,
            "justify_content": null,
            "justify_items": null,
            "left": null,
            "margin": null,
            "max_height": null,
            "max_width": null,
            "min_height": null,
            "min_width": null,
            "object_fit": null,
            "object_position": null,
            "order": null,
            "overflow": null,
            "overflow_x": null,
            "overflow_y": null,
            "padding": null,
            "right": null,
            "top": null,
            "visibility": null,
            "width": null
          }
        },
        "efd6aa6d1aee47d49120b755f875536f": {
          "model_module": "@jupyter-widgets/controls",
          "model_name": "ButtonModel",
          "model_module_version": "1.5.0",
          "state": {
            "_dom_classes": [],
            "_model_module": "@jupyter-widgets/controls",
            "_model_module_version": "1.5.0",
            "_model_name": "ButtonModel",
            "_view_count": null,
            "_view_module": "@jupyter-widgets/controls",
            "_view_module_version": "1.5.0",
            "_view_name": "ButtonView",
            "button_style": "",
            "description": "Verify",
            "disabled": false,
            "icon": "",
            "layout": "IPY_MODEL_fde6a0f56fc64a3992eef44e4800368f",
            "style": "IPY_MODEL_63a43393ac704e89af619165cd9d3f1c",
            "tooltip": ""
          }
        },
        "fde6a0f56fc64a3992eef44e4800368f": {
          "model_module": "@jupyter-widgets/base",
          "model_name": "LayoutModel",
          "model_module_version": "1.2.0",
          "state": {
            "_model_module": "@jupyter-widgets/base",
            "_model_module_version": "1.2.0",
            "_model_name": "LayoutModel",
            "_view_count": null,
            "_view_module": "@jupyter-widgets/base",
            "_view_module_version": "1.2.0",
            "_view_name": "LayoutView",
            "align_content": null,
            "align_items": null,
            "align_self": null,
            "border": null,
            "bottom": null,
            "display": null,
            "flex": null,
            "flex_flow": null,
            "grid_area": null,
            "grid_auto_columns": null,
            "grid_auto_flow": null,
            "grid_auto_rows": null,
            "grid_column": null,
            "grid_gap": null,
            "grid_row": null,
            "grid_template_areas": null,
            "grid_template_columns": null,
            "grid_template_rows": null,
            "height": null,
            "justify_content": null,
            "justify_items": null,
            "left": null,
            "margin": null,
            "max_height": null,
            "max_width": null,
            "min_height": null,
            "min_width": null,
            "object_fit": null,
            "object_position": null,
            "order": null,
            "overflow": null,
            "overflow_x": null,
            "overflow_y": null,
            "padding": null,
            "right": null,
            "top": null,
            "visibility": null,
            "width": null
          }
        },
        "63a43393ac704e89af619165cd9d3f1c": {
          "model_module": "@jupyter-widgets/controls",
          "model_name": "ButtonStyleModel",
          "model_module_version": "1.5.0",
          "state": {
            "_model_module": "@jupyter-widgets/controls",
            "_model_module_version": "1.5.0",
            "_model_name": "ButtonStyleModel",
            "_view_count": null,
            "_view_module": "@jupyter-widgets/base",
            "_view_module_version": "1.2.0",
            "_view_name": "StyleView",
            "button_color": null,
            "font_weight": ""
          }
        }
      }
    }
  },
  "cells": [
    {
      "cell_type": "markdown",
      "metadata": {
        "id": "view-in-github",
        "colab_type": "text"
      },
      "source": [
        "<a href=\"https://colab.research.google.com/github/mickymult/ZeroKnowledgeProofs/blob/main/ZKP_ZeroKnowledgeProofs.ipynb\" target=\"_parent\"><img src=\"https://colab.research.google.com/assets/colab-badge.svg\" alt=\"Open In Colab\"/></a>"
      ]
    },
    {
      "cell_type": "markdown",
      "source": [
        "**Imports and Libraries**\n",
        "\n",
        "**ecdsa:** This is a Python library that provides cryptographic functionalities, specifically elliptic curve digital signatures, which are crucial for implementing secure cryptographic schemes like Zero-Knowledge Proofs. It allows us to generate private/public key pairs and to sign and verify messages using these keys.\n",
        "\n",
        "**ipywidgets:** This library is used to create interactive UI elements (like sliders and buttons) in Jupyter notebooks or Google Colab. It makes it possible to create a simple, interactive user interface for both borrowers and lenders.\n",
        "\n",
        "**IPython.display:** This module from IPython is used to display widgets in the notebook."
      ],
      "metadata": {
        "id": "uVrB2U1sfihP"
      }
    },
    {
      "cell_type": "code",
      "execution_count": null,
      "metadata": {
        "id": "BESjlzXDaYKz"
      },
      "outputs": [],
      "source": [
        "!pip install ecdsa ipywidgets"
      ]
    },
    {
      "cell_type": "markdown",
      "source": [
        "**SigningKey.generate(curve=NIST384p):** This line generates a new private key using the NIST P-384 elliptic curve.\n",
        "\n",
        "**private_key.verifying_key:** This extracts the public key associated with the generated private key.\n",
        "The function returns both the private and public keys. The private key is kept secret by the borrower, while the public key can be shared with the bank."
      ],
      "metadata": {
        "id": "Z5AM9KJqf63a"
      }
    },
    {
      "cell_type": "code",
      "source": [
        "from ecdsa import SigningKey, NIST384p\n",
        "import ipywidgets as widgets\n",
        "from IPython.display import display\n",
        "from ipywidgets import Output\n",
        "\n",
        "def generate_keys():\n",
        "    private_key = SigningKey.generate(curve=NIST384p)\n",
        "    public_key = private_key.verifying_key\n",
        "    return private_key, public_key"
      ],
      "metadata": {
        "id": "O4qke3-Gam36"
      },
      "execution_count": 14,
      "outputs": []
    },
    {
      "cell_type": "markdown",
      "source": [
        "**categorize_score(score):** This helper function categorizes the credit score into predefined ranges.\n",
        "\n",
        "**private_key.sign(...):** This line signs the score category using the borrower's private key. The signature serves as a 'proof' without revealing the actual score."
      ],
      "metadata": {
        "id": "b7gxiY-TgPmi"
      }
    },
    {
      "cell_type": "code",
      "source": [
        "def create_proof(private_key, score):\n",
        "    # Simplified proof: sign the score category\n",
        "    score_category = categorize_score(score)\n",
        "    proof = private_key.sign(score_category.encode())\n",
        "    return proof, score_category\n",
        "\n",
        "def categorize_score(score):\n",
        "    if score >= 750:\n",
        "        return \"excellent\"\n",
        "    elif 600 <= score < 750:\n",
        "        return \"fair\"\n",
        "    elif 500 <= score < 600:\n",
        "        return \"poor\"\n",
        "    else:\n",
        "        return \"not qualified\""
      ],
      "metadata": {
        "id": "65TEdrnmarV3"
      },
      "execution_count": 15,
      "outputs": []
    },
    {
      "cell_type": "markdown",
      "source": [
        "**public_key.verify(...):** This verifies the signature (proof) using the borrower's public key. If the verification is successful, it means the proof is valid."
      ],
      "metadata": {
        "id": "QfFGM0Tvgnsk"
      }
    },
    {
      "cell_type": "code",
      "source": [
        "def verify_proof(public_key, proof, score_category):\n",
        "    try:\n",
        "        return public_key.verify(proof, score_category.encode())\n",
        "    except:\n",
        "        return False"
      ],
      "metadata": {
        "id": "ebAJ5XKlawwO"
      },
      "execution_count": 16,
      "outputs": []
    },
    {
      "cell_type": "code",
      "source": [
        "import ipywidgets as widgets\n",
        "from ipywidgets import Output\n",
        "from ecdsa import SigningKey, NIST384p\n",
        "from IPython.display import display\n",
        "\n",
        "# Function definitions (generate_keys, create_proof, categorize_score)\n",
        "\n",
        "# Global variables to store public key and proof\n",
        "borrower_public_key = None\n",
        "borrower_proof = None\n",
        "borrower_score_category = None\n",
        "\n",
        "output_area = Output()\n",
        "\n",
        "def borrower_submit_action(b):\n",
        "    global borrower_public_key, borrower_proof, borrower_score_category\n",
        "    private_key, public_key = generate_keys()\n",
        "    borrower_public_key = public_key\n",
        "    proof, score_category = create_proof(private_key, borrower_score_input.value)\n",
        "    borrower_proof = proof\n",
        "    borrower_score_category = score_category\n",
        "\n",
        "    # Display the proof and public key\n",
        "    with output_area:\n",
        "        output_area.clear_output()\n",
        "        print(\"Proof generated for category:\", score_category)\n",
        "        print(\"Public Key:\", public_key.to_string().hex())\n",
        "        print(\"Proof:\", proof.hex())\n",
        "\n",
        "borrower_score_input = widgets.IntSlider(\n",
        "    value=700,\n",
        "    min=300,\n",
        "    max=850,\n",
        "    step=1,\n",
        "    description='Credit Score:',\n",
        "    disabled=False,\n",
        "    continuous_update=False,\n",
        "    orientation='horizontal',\n",
        "    readout=True,\n",
        "    readout_format='d'\n",
        ")\n",
        "\n",
        "borrower_submit_button = widgets.Button(description=\"Submit\")\n",
        "borrower_submit_button.on_click(borrower_submit_action)\n",
        "\n",
        "display(borrower_score_input, borrower_submit_button, output_area)"
      ],
      "metadata": {
        "colab": {
          "base_uri": "https://localhost:8080/",
          "height": 133,
          "referenced_widgets": [
            "45cd8b9d333a4ac98548054155364c69",
            "a9b228b2a2e54d9da048ac82a96eada7",
            "37a88c892a7f4157891af5ad92328b2a",
            "9d56432c24314b93a553b2bc3dd082ed",
            "31f3e87a90364650b04f56f307abac75",
            "308e07c1de60432a857b45d47e2d1065",
            "fe13bb8074784d4c90b49c73ad2509da",
            "92a652371a0b4617b7eb3033dd06e6da"
          ]
        },
        "id": "obonRsCpa0FO",
        "outputId": "b8377e47-d421-411e-ffc9-1efc4ec0d9cb"
      },
      "execution_count": 17,
      "outputs": [
        {
          "output_type": "display_data",
          "data": {
            "text/plain": [
              "IntSlider(value=700, continuous_update=False, description='Credit Score:', max=850, min=300)"
            ],
            "application/vnd.jupyter.widget-view+json": {
              "version_major": 2,
              "version_minor": 0,
              "model_id": "45cd8b9d333a4ac98548054155364c69"
            }
          },
          "metadata": {}
        },
        {
          "output_type": "display_data",
          "data": {
            "text/plain": [
              "Button(description='Submit', style=ButtonStyle())"
            ],
            "application/vnd.jupyter.widget-view+json": {
              "version_major": 2,
              "version_minor": 0,
              "model_id": "9d56432c24314b93a553b2bc3dd082ed"
            }
          },
          "metadata": {}
        },
        {
          "output_type": "display_data",
          "data": {
            "text/plain": [
              "Output()"
            ],
            "application/vnd.jupyter.widget-view+json": {
              "version_major": 2,
              "version_minor": 0,
              "model_id": "fe13bb8074784d4c90b49c73ad2509da"
            }
          },
          "metadata": {}
        }
      ]
    },
    {
      "cell_type": "code",
      "source": [
        "from ecdsa import VerifyingKey, NIST384p\n",
        "\n",
        "public_key_hex = \"76d9309a3cabf03336d68fdf4ff8229a68c9eb4cd267911c578c81cce9c372a0b1ff3a14b0547211851db90358d2e469446590c2687d3aa105c046c5b89e16803c2323be570d4fabe86b07821cd7de1149d7b2ea4552610d0460149b86b02ce0\"\n",
        "public_key = VerifyingKey.from_string(bytes.fromhex(public_key_hex), curve=NIST384p)\n",
        "\n",
        "proof_hex = \"cd3e142f7b964a3354c5fcd817f1fa3e222b4709c19e7e3e0318c49fa50f2628da99efcc93dd596b4fd8e910f1fd1a5b039677d32b157b01d44ad0b70a81dc580461250a96a2dc48b371929152ec4fecfeed3a8dee2896ef079cc889d71ecfee\"\n",
        "proof = bytes.fromhex(proof_hex)\n"
      ],
      "metadata": {
        "id": "W3l8T2M6eLLu"
      },
      "execution_count": 21,
      "outputs": []
    },
    {
      "cell_type": "code",
      "source": [
        "# Assume these are received from the borrower\n",
        "\n",
        "score_category = \"excellent\" # Get from borrower\n",
        "\n",
        "def lender_verify_action(b):\n",
        "    result = verify_proof(public_key, proof, score_category)\n",
        "    if result:\n",
        "        print(\"Proof verified. Category:\", score_category)\n",
        "    else:\n",
        "        print(\"Verification failed.\")\n",
        "\n",
        "lender_verify_button = widgets.Button(description=\"Verify\")\n",
        "lender_verify_button.on_click(lender_verify_action)\n",
        "\n",
        "display(lender_verify_button)"
      ],
      "metadata": {
        "colab": {
          "base_uri": "https://localhost:8080/",
          "height": 66,
          "referenced_widgets": [
            "efd6aa6d1aee47d49120b755f875536f",
            "fde6a0f56fc64a3992eef44e4800368f",
            "63a43393ac704e89af619165cd9d3f1c"
          ]
        },
        "id": "9D_aurXQa4b5",
        "outputId": "a5c56a83-e347-4e21-cb96-c302cd472017"
      },
      "execution_count": 23,
      "outputs": [
        {
          "output_type": "display_data",
          "data": {
            "text/plain": [
              "Button(description='Verify', style=ButtonStyle())"
            ],
            "application/vnd.jupyter.widget-view+json": {
              "version_major": 2,
              "version_minor": 0,
              "model_id": "efd6aa6d1aee47d49120b755f875536f"
            }
          },
          "metadata": {}
        },
        {
          "output_type": "stream",
          "name": "stdout",
          "text": [
            "Proof verified. Category: excellent\n"
          ]
        }
      ]
    }
  ]
}